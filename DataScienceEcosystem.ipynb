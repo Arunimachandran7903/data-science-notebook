{
 "cells": [
  {
   "cell_type": "markdown",
   "id": "ddfd0e1b-6898-4fb5-bdef-d552850021c9",
   "metadata": {},
   "source": [
    "# Data Science Tools and Ecosystem"
   ]
  },
  {
   "cell_type": "markdown",
   "id": "1a13f921-8397-48b2-8ef7-c8573f02ea8e",
   "metadata": {},
   "source": [
    "**In this notebook, Data Science Tools and Ecosystem are summarized.**"
   ]
  },
  {
   "cell_type": "markdown",
   "id": "71166d77-07a7-4cc2-9d82-374bb0aafdc7",
   "metadata": {},
   "source": [
    "## Some of the popular languages that Data Scientists use are:"
   ]
  },
  {
   "cell_type": "markdown",
   "id": "f004acef-12f4-427d-8831-ae27d3d5d272",
   "metadata": {},
   "source": [
    "1. Python\n",
    "2. SQL\n",
    "3. R"
   ]
  },
  {
   "cell_type": "markdown",
   "id": "a80c2566-f7ff-4fe4-8057-a1e27a7b8362",
   "metadata": {},
   "source": [
    "| Data science tools |  \n",
    "|:------------------:|\n",
    "|  Jupyter notebook  |  \n",
    "|  Git               |  \n",
    "|  Rstudio           |  "
   ]
  },
  {
   "cell_type": "markdown",
   "id": "3388234c-0918-47bf-818b-e9c5e152c0cb",
   "metadata": {},
   "source": [
    "### Below are a few examples of evaluating arithmetic expression in python"
   ]
  },
  {
   "cell_type": "code",
   "execution_count": 17,
   "id": "c33836b2-93c2-4948-ac0f-49ff3a188581",
   "metadata": {},
   "outputs": [
    {
     "name": "stdout",
     "output_type": "stream",
     "text": [
      "This a simple arithmetic expression to mutiply then add integers\n"
     ]
    },
    {
     "data": {
      "text/plain": [
       "17"
      ]
     },
     "execution_count": 17,
     "metadata": {},
     "output_type": "execute_result"
    }
   ],
   "source": [
    "print(\"This a simple arithmetic expression to mutiply then add integers\")\n",
    "(3*4)+5"
   ]
  },
  {
   "cell_type": "code",
   "execution_count": 18,
   "id": "e3bfe3fc-1c1a-4ca0-950b-27c57799e121",
   "metadata": {},
   "outputs": [
    {
     "data": {
      "text/plain": [
       "3.3333333333333335"
      ]
     },
     "execution_count": 18,
     "metadata": {},
     "output_type": "execute_result"
    }
   ],
   "source": [
    "# This will convert 200 minutes to hours by diving by 60\n",
    "200/60"
   ]
  },
  {
   "cell_type": "markdown",
   "id": "b21bc539-8f19-4d6f-b6c1-3befe1987252",
   "metadata": {},
   "source": [
    "**Objectives:**\n",
    " - List popular languages for Data Science\n",
    "    - Identify common data science libraries\n",
    "    - Summarize data science tools\n",
    "    - Demonstrate basic arithmetic operations in Python"
   ]
  },
  {
   "cell_type": "markdown",
   "id": "99c052c4-b9f6-44e3-9c18-ccebffe9da12",
   "metadata": {},
   "source": [
    "## Author\n",
    "  ### Arunima "
   ]
  },
  {
   "cell_type": "code",
   "execution_count": null,
   "id": "15d30211-8ca8-44f0-965d-b3cfa9f81698",
   "metadata": {},
   "outputs": [],
   "source": []
  }
 ],
 "metadata": {
  "kernelspec": {
   "display_name": "Python [conda env:base] *",
   "language": "python",
   "name": "conda-base-py"
  },
  "language_info": {
   "codemirror_mode": {
    "name": "ipython",
    "version": 3
   },
   "file_extension": ".py",
   "mimetype": "text/x-python",
   "name": "python",
   "nbconvert_exporter": "python",
   "pygments_lexer": "ipython3",
   "version": "3.12.7"
  }
 },
 "nbformat": 4,
 "nbformat_minor": 5
}
